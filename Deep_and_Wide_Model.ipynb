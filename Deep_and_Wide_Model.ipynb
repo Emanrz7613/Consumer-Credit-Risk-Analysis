{
  "cells": [
    {
      "cell_type": "code",
      "execution_count": null,
      "metadata": {
        "id": "5T80MH89Ln2g"
      },
      "outputs": [],
      "source": [
        "import numpy as np\n",
        "import pandas as pd\n",
        "import tensorflow as tf\n",
        "from sklearn.model_selection import train_test_split\n",
        "from sklearn.preprocessing import StandardScaler, OneHotEncoder\n",
        "from tensorflow.keras.models import Model\n",
        "from tensorflow.keras.layers import Input, Dense, concatenate\n",
        "from tensorflow.keras.utils import plot_model\n",
        "from tensorflow.keras.utils import plot_model\n",
        "from sklearn.ensemble import RandomForestClassifier\n",
        "from sklearn.metrics import accuracy_score, precision_score, recall_score, f1_score, roc_auc_score"
      ]
    },
    {
      "cell_type": "code",
      "execution_count": null,
      "metadata": {
        "id": "YUvR6VdfLoYC"
      },
      "outputs": [],
      "source": [
        "# Load the dataset\n",
        "file_path = '/content/mlp_data_preprocessed.csv'\n",
        "data = pd.read_csv(file_path)"
      ]
    },
    {
      "cell_type": "code",
      "execution_count": null,
      "metadata": {
        "id": "AAcov2-HMkR_"
      },
      "outputs": [],
      "source": [
        "# Split the data into features and target\n",
        "X = data.drop('good_bad', axis=1)\n",
        "y = data['good_bad']"
      ]
    },
    {
      "cell_type": "code",
      "execution_count": null,
      "metadata": {
        "id": "EBSfIJvhMkUp"
      },
      "outputs": [],
      "source": [
        "# Split the dataset into training and testing sets\n",
        "X_train, X_test, y_train, y_test = train_test_split(X, y, test_size=0.2, random_state=42)\n",
        "\n",
        "# using StandardScaler for numerical features\n",
        "scaler = StandardScaler()\n",
        "X_train_scaled = scaler.fit_transform(X_train)\n",
        "X_test_scaled = scaler.transform(X_test)"
      ]
    },
    {
      "cell_type": "code",
      "execution_count": null,
      "metadata": {
        "id": "N_jVZQhBMkXT"
      },
      "outputs": [],
      "source": [
        "# Define the deep component\n",
        "deep_input = Input(shape=(X_train_scaled.shape[1],))\n",
        "deep_model = Dense(256, activation='relu')(deep_input)\n",
        "deep_model = Dense(128, activation='relu')(deep_model)\n",
        "deep_model = Dense(64, activation='relu')(deep_model)"
      ]
    },
    {
      "cell_type": "code",
      "execution_count": null,
      "metadata": {
        "id": "HBTueTCyMkaA"
      },
      "outputs": [],
      "source": [
        "# Define the wide component\n",
        "wide_input = Input(shape=(X_train_scaled.shape[1],))\n",
        "wide_model = Dense(64, activation='linear')(wide_input)"
      ]
    },
    {
      "cell_type": "code",
      "execution_count": null,
      "metadata": {
        "id": "e1PayE_aMkc2"
      },
      "outputs": [],
      "source": [
        "# Combine deep and wide components\n",
        "combined = concatenate([deep_model, wide_model])\n",
        "final_model_output = Dense(1, activation='relu')(combined)"
      ]
    },
    {
      "cell_type": "code",
      "execution_count": null,
      "metadata": {
        "id": "88sIxuhhMkf4"
      },
      "outputs": [],
      "source": [
        "# Create the final model\n",
        "model = Model(inputs=[deep_input, wide_input], outputs=final_model_output)"
      ]
    },
    {
      "cell_type": "code",
      "execution_count": null,
      "metadata": {
        "id": "qvw48fQJNNo7"
      },
      "outputs": [],
      "source": [
        "# Compile the model\n",
        "model.compile(optimizer='adam', loss='binary_crossentropy', metrics=['accuracy'])"
      ]
    },
    {
      "cell_type": "code",
      "execution_count": null,
      "metadata": {
        "colab": {
          "base_uri": "https://localhost:8080/"
        },
        "id": "sHAKXvGNNNrm",
        "outputId": "693451ea-be9e-4b72-96e3-d34e4d6955c1"
      },
      "outputs": [
        {
          "output_type": "stream",
          "name": "stdout",
          "text": [
            "Epoch 1/10\n",
            "7919/7919 [==============================] - 32s 4ms/step - loss: 1.5408 - accuracy: 0.8987 - val_loss: 1.5726 - val_accuracy: 0.8969\n",
            "Epoch 2/10\n",
            "7919/7919 [==============================] - 29s 4ms/step - loss: 1.5354 - accuracy: 0.8993 - val_loss: 1.5726 - val_accuracy: 0.8969\n",
            "Epoch 3/10\n",
            "7919/7919 [==============================] - 31s 4ms/step - loss: 1.5354 - accuracy: 0.8993 - val_loss: 1.5726 - val_accuracy: 0.8969\n",
            "Epoch 4/10\n",
            "7919/7919 [==============================] - 29s 4ms/step - loss: 1.5354 - accuracy: 0.8993 - val_loss: 1.5726 - val_accuracy: 0.8969\n",
            "Epoch 5/10\n",
            "7919/7919 [==============================] - 29s 4ms/step - loss: 1.5354 - accuracy: 0.8993 - val_loss: 1.5726 - val_accuracy: 0.8969\n",
            "Epoch 6/10\n",
            "7919/7919 [==============================] - 29s 4ms/step - loss: 1.5354 - accuracy: 0.8993 - val_loss: 1.5726 - val_accuracy: 0.8969\n",
            "Epoch 7/10\n",
            "7919/7919 [==============================] - 29s 4ms/step - loss: 1.5354 - accuracy: 0.8993 - val_loss: 1.5726 - val_accuracy: 0.8969\n",
            "Epoch 8/10\n",
            "7919/7919 [==============================] - 30s 4ms/step - loss: 1.5354 - accuracy: 0.8993 - val_loss: 1.5726 - val_accuracy: 0.8969\n",
            "Epoch 9/10\n",
            "7919/7919 [==============================] - 31s 4ms/step - loss: 1.5354 - accuracy: 0.8993 - val_loss: 1.5726 - val_accuracy: 0.8969\n",
            "Epoch 10/10\n",
            "7919/7919 [==============================] - 31s 4ms/step - loss: 1.5354 - accuracy: 0.8993 - val_loss: 1.5726 - val_accuracy: 0.8969\n"
          ]
        },
        {
          "output_type": "execute_result",
          "data": {
            "text/plain": [
              "<keras.src.callbacks.History at 0x7a271980bc40>"
            ]
          },
          "metadata": {},
          "execution_count": 10
        }
      ],
      "source": [
        "model.fit([X_train_scaled, X_train_scaled], y_train, epochs=10, batch_size=32, validation_split=0.2)"
      ]
    },
    {
      "cell_type": "code",
      "execution_count": null,
      "metadata": {
        "colab": {
          "base_uri": "https://localhost:8080/"
        },
        "id": "afBhkmNjNNuW",
        "outputId": "56316db4-c3d1-4ac8-a3af-8baad40bbf27"
      },
      "outputs": [
        {
          "output_type": "stream",
          "name": "stdout",
          "text": [
            "2475/2475 [==============================] - 5s 2ms/step - loss: 1.5385 - accuracy: 0.8991\n"
          ]
        },
        {
          "output_type": "execute_result",
          "data": {
            "text/plain": [
              "[1.5384852886199951, 0.8991122245788574]"
            ]
          },
          "metadata": {},
          "execution_count": 11
        }
      ],
      "source": [
        "model.evaluate([X_test_scaled, X_test_scaled], y_test)"
      ]
    },
    {
      "cell_type": "code",
      "execution_count": null,
      "metadata": {
        "colab": {
          "base_uri": "https://localhost:8080/",
          "height": 644
        },
        "id": "qSh4T5aaMkiu",
        "outputId": "b3dfa1ff-45a5-42f8-9b65-9f2470da8e04"
      },
      "outputs": [
        {
          "output_type": "execute_result",
          "data": {
            "image/png": "[encoded data removed]",
            "text/plain": [
              "<IPython.core.display.Image object>"
            ]
          },
          "metadata": {},
          "execution_count": 12
        }
      ],
      "source": [
        "plot_model(model, to_file='model_plot.png', show_shapes=True, show_layer_names=True)"
      ]
    },
    {
      "cell_type": "code",
      "execution_count": null,
      "metadata": {
        "id": "O20vNMHKMklj"
      },
      "outputs": [],
      "source": [
        "# Combine deep and wide components\n",
        "combined = concatenate([deep_model, wide_model])\n",
        "\n",
        "# Final model output with sigmoid activation for binary classification\n",
        "final_model_output = Dense(1, activation='sigmoid')(combined)\n",
        "\n",
        "# Create the final model\n",
        "model = Model(inputs=[deep_input, wide_input], outputs=final_model_output)\n",
        "\n",
        "# Compile the model with binary_crossentropy loss for a binary classification problem\n",
        "model.compile(optimizer='adam', loss='binary_crossentropy', metrics=['accuracy'])"
      ]
    },
    {
      "cell_type": "code",
      "execution_count": null,
      "metadata": {
        "colab": {
          "base_uri": "https://localhost:8080/"
        },
        "id": "nyWBuwwfMkoT",
        "outputId": "b98e9595-c498-41fd-a950-ac5b7591b85d"
      },
      "outputs": [
        {
          "output_type": "stream",
          "name": "stdout",
          "text": [
            "Epoch 1/10\n",
            "7919/7919 [==============================] - 29s 4ms/step - loss: 0.2820 - accuracy: 0.8987 - val_loss: 0.2818 - val_accuracy: 0.8973\n",
            "Epoch 2/10\n",
            "7919/7919 [==============================] - 28s 4ms/step - loss: 0.2687 - accuracy: 0.9002 - val_loss: 0.2789 - val_accuracy: 0.8969\n",
            "Epoch 3/10\n",
            "7919/7919 [==============================] - 29s 4ms/step - loss: 0.2654 - accuracy: 0.9005 - val_loss: 0.2741 - val_accuracy: 0.8977\n",
            "Epoch 4/10\n",
            "7919/7919 [==============================] - 29s 4ms/step - loss: 0.2628 - accuracy: 0.9008 - val_loss: 0.2752 - val_accuracy: 0.8971\n",
            "Epoch 5/10\n",
            "7919/7919 [==============================] - 27s 3ms/step - loss: 0.2602 - accuracy: 0.9013 - val_loss: 0.2735 - val_accuracy: 0.8976\n",
            "Epoch 6/10\n",
            "7919/7919 [==============================] - 29s 4ms/step - loss: 0.2581 - accuracy: 0.9023 - val_loss: 0.2768 - val_accuracy: 0.8971\n",
            "Epoch 7/10\n",
            "7919/7919 [==============================] - 30s 4ms/step - loss: 0.2556 - accuracy: 0.9031 - val_loss: 0.2780 - val_accuracy: 0.8960\n",
            "Epoch 8/10\n",
            "7919/7919 [==============================] - 30s 4ms/step - loss: 0.2517 - accuracy: 0.9044 - val_loss: 0.2784 - val_accuracy: 0.8970\n",
            "Epoch 9/10\n",
            "7919/7919 [==============================] - 30s 4ms/step - loss: 0.2482 - accuracy: 0.9053 - val_loss: 0.2853 - val_accuracy: 0.8963\n",
            "Epoch 10/10\n",
            "7919/7919 [==============================] - 28s 4ms/step - loss: 0.2444 - accuracy: 0.9068 - val_loss: 0.2851 - val_accuracy: 0.8953\n"
          ]
        },
        {
          "output_type": "execute_result",
          "data": {
            "text/plain": [
              "<keras.src.callbacks.History at 0x7a26d9bdb6a0>"
            ]
          },
          "metadata": {},
          "execution_count": 14
        }
      ],
      "source": [
        "model.fit([X_train_scaled, X_train_scaled], y_train, epochs=10, batch_size=32, validation_split=0.2)"
      ]
    },
    {
      "cell_type": "code",
      "execution_count": null,
      "metadata": {
        "colab": {
          "base_uri": "https://localhost:8080/"
        },
        "id": "4vpRkio9Mkrc",
        "outputId": "de548d6f-3fdc-4f9c-f33f-2c9939e68a8b"
      },
      "outputs": [
        {
          "output_type": "stream",
          "name": "stdout",
          "text": [
            "2475/2475 [==============================] - 4s 2ms/step - loss: 0.2802 - accuracy: 0.8969\n"
          ]
        },
        {
          "output_type": "execute_result",
          "data": {
            "text/plain": [
              "[0.2802280783653259, 0.8969022631645203]"
            ]
          },
          "metadata": {},
          "execution_count": 15
        }
      ],
      "source": [
        "model.evaluate([X_test_scaled, X_test_scaled], y_test)"
      ]
    },
    {
      "cell_type": "code",
      "execution_count": null,
      "metadata": {
        "id": "01hhlM7cQGVD"
      },
      "outputs": [],
      "source": [
        "rf = RandomForestClassifier()\n",
        "rf.fit(X_train, y_train)\n",
        "\n",
        "# Get feature importances\n",
        "importances = rf.feature_importances_\n",
        "\n",
        "# Convert the importances into a DataFrame\n",
        "feature_importances = pd.DataFrame({'feature': X_train.columns, 'importance': importances})\n",
        "\n",
        "# Sort the DataFrame to discover the most important features\n",
        "feature_importances.sort_values(by='importance', ascending=False, inplace=True)"
      ]
    },
    {
      "cell_type": "code",
      "execution_count": null,
      "metadata": {
        "colab": {
          "base_uri": "https://localhost:8080/"
        },
        "id": "gjqcyefyT88P",
        "outputId": "c1db2845-b55f-4d37-8413-12a9618c076f"
      },
      "outputs": [
        {
          "output_type": "stream",
          "name": "stdout",
          "text": [
            "                        feature  importance\n",
            "15              last_pymnt_amnt    0.083772\n",
            "3                      int_rate    0.046812\n",
            "6                           dti    0.046254\n",
            "20                  tot_cur_bal    0.045740\n",
            "11                    revol_bal    0.044980\n",
            "12                   revol_util    0.044684\n",
            "23  mths_since_earliest_cr_line    0.044535\n",
            "21             total_rev_hi_lim    0.044284\n",
            "5                    annual_inc    0.042046\n",
            "4                   installment    0.040425\n"
          ]
        }
      ],
      "source": [
        "print(feature_importances.head(10))"
      ]
    },
    {
      "cell_type": "code",
      "execution_count": null,
      "metadata": {
        "id": "_Vos-IOtQGYF",
        "colab": {
          "base_uri": "https://localhost:8080/"
        },
        "outputId": "fb3cbcab-abd1-477d-de16-72d148fca91c"
      },
      "outputs": [
        {
          "output_type": "stream",
          "name": "stdout",
          "text": [
            "2475/2475 [==============================] - 5s 2ms/step\n"
          ]
        }
      ],
      "source": [
        "predictions = model.predict([X_test_scaled, X_test_scaled])"
      ]
    },
    {
      "cell_type": "code",
      "execution_count": null,
      "metadata": {
        "id": "GeX6h_yYSYO0",
        "colab": {
          "base_uri": "https://localhost:8080/"
        },
        "outputId": "97df3012-2a02-425b-fc37-efb8c343f408"
      },
      "outputs": [
        {
          "output_type": "stream",
          "name": "stdout",
          "text": [
            "Sample Predictions: [[0.6194865 ]\n",
            " [0.9932231 ]\n",
            " [0.6736566 ]\n",
            " [0.68993247]\n",
            " [0.7812142 ]\n",
            " [0.58694327]\n",
            " [0.99996674]\n",
            " [0.8244167 ]\n",
            " [0.99999964]\n",
            " [0.9533729 ]]\n"
          ]
        }
      ],
      "source": [
        "print(\"Sample Predictions:\", predictions[:10])"
      ]
    },
    {
      "cell_type": "code",
      "execution_count": null,
      "metadata": {
        "id": "dKdTDaOLQGc1"
      },
      "outputs": [],
      "source": [
        "# For binary classification with sigmoid output\n",
        "binary_predictions = (predictions > 0.5).astype(int)"
      ]
    },
    {
      "cell_type": "code",
      "execution_count": null,
      "metadata": {
        "id": "L1es6pY0SazA",
        "colab": {
          "base_uri": "https://localhost:8080/"
        },
        "outputId": "3533a81a-8be8-4dc8-a338-f1b763b2f6f1"
      },
      "outputs": [
        {
          "output_type": "stream",
          "name": "stdout",
          "text": [
            "Sample Binary Predictions: [[1]\n",
            " [1]\n",
            " [1]\n",
            " [1]\n",
            " [1]\n",
            " [1]\n",
            " [1]\n",
            " [1]\n",
            " [1]\n",
            " [1]]\n"
          ]
        }
      ],
      "source": [
        "print(\"Sample Binary Predictions:\", binary_predictions[:10])"
      ]
    },
    {
      "cell_type": "code",
      "execution_count": null,
      "metadata": {
        "id": "kUiKOELWRin9"
      },
      "outputs": [],
      "source": [
        "# Calculate metrics\n",
        "accuracy = accuracy_score(y_test, binary_predictions)\n",
        "precision = precision_score(y_test, binary_predictions)\n",
        "recall = recall_score(y_test, binary_predictions)\n",
        "f1 = f1_score(y_test, binary_predictions)\n",
        "roc_auc = roc_auc_score(y_test, predictions)"
      ]
    },
    {
      "cell_type": "code",
      "execution_count": null,
      "metadata": {
        "id": "tDPzJTNzRiqn",
        "colab": {
          "base_uri": "https://localhost:8080/"
        },
        "outputId": "c0f10e48-3d77-4b73-90c5-8d493b2f8faa"
      },
      "outputs": [
        {
          "output_type": "stream",
          "name": "stdout",
          "text": [
            "Accuracy: 0.896902269311882\n",
            "Precision: 0.9047282720361619\n",
            "Recall: 0.9895362229276103\n",
            "F1 Score: 0.9452337827866103\n",
            "ROC-AUC: 0.7865294953810738\n"
          ]
        }
      ],
      "source": [
        "# Print the metrics\n",
        "print(f'Accuracy: {accuracy}')\n",
        "print(f'Precision: {precision}')\n",
        "print(f'Recall: {recall}')\n",
        "print(f'F1 Score: {f1}')\n",
        "print(f'ROC-AUC: {roc_auc}')"
      ]
    }
  ],
  "metadata": {
    "colab": {
      "provenance": []
    },
    "kernelspec": {
      "display_name": "Python 3",
      "name": "python3"
    },
    "language_info": {
      "name": "python"
    }
  },
  "nbformat": 4,
  "nbformat_minor": 0
}